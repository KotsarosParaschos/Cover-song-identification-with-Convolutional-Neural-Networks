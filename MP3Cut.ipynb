{
 "cells": [
  {
   "cell_type": "code",
   "execution_count": null,
   "metadata": {},
   "outputs": [],
   "source": [
    "from pydub import AudioSegment\n",
    "from pydub.utils import make_chunks\n",
    "import os\n",
    "from os.path import basename\n",
    "import pydub\n",
    "\n",
    "chunk_length_ms = 20000\n",
    "path = \"C:\\\\Users\\\\Paris\\\\Documents\\\\Ptyxiaki\\\\cutsongs\\\\\" #The path where the short mp3s will be saved\n",
    "\n",
    "\n",
    "if (os.path.exists(path)):\n",
    "     print(\"File cutsongs already exists\")\n",
    "else:\n",
    "     os.makedirs(path)\n",
    "    \n",
    "\n",
    "    \n",
    "def cut_dir(file):\n",
    "    if (os.path.exists(path + file)):\n",
    "        print(\"File already exists\")\n",
    "    else:\n",
    "        os.makedirs(path + file)\n",
    "    \n",
    "    \n",
    "    \n",
    "def cut_original(file,file_name):\n",
    "    audio = AudioSegment.from_file(file + \"\\\\\" + file_name, format=\"mp3\")\n",
    "    slicedsong = make_chunks(audio, chunk_length_ms)\n",
    "    for i, chunk in enumerate(slicedsong):\n",
    "        chunk_name = \"{0}.mp3\".format(i)\n",
    "        folder = os.path.basename(file)\n",
    "        chunk.export(path + folder + \"\\\\\"  + file_name + chunk_name, format=\"mp3\")\n",
    "        \n",
    "\n",
    "for root,file,song in os.walk(\"C:\\\\Users\\\\Paris\\\\Documents\\\\Ptyxiaki\\\\Songs\\\\\"): #the path of the song covers\n",
    "       for file in file:\n",
    "            cut_dir(file)\n",
    "       for song in song:\n",
    "            print(song + \"  Is being cut\")\n",
    "            cut_original(root,song)\n",
    "\n",
    "print('done')\n",
    "        \n",
    "\n",
    "    \n",
    "\n"
   ]
  },
  {
   "cell_type": "code",
   "execution_count": null,
   "metadata": {},
   "outputs": [],
   "source": []
  }
 ],
 "metadata": {
  "kernelspec": {
   "display_name": "Python 3",
   "language": "python",
   "name": "python3"
  },
  "language_info": {
   "codemirror_mode": {
    "name": "ipython",
    "version": 3
   },
   "file_extension": ".py",
   "mimetype": "text/x-python",
   "name": "python",
   "nbconvert_exporter": "python",
   "pygments_lexer": "ipython3",
   "version": "3.8.5"
  }
 },
 "nbformat": 4,
 "nbformat_minor": 4
}
