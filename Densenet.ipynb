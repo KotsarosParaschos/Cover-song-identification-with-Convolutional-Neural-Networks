{
  "nbformat": 4,
  "nbformat_minor": 0,
  "metadata": {
    "kernelspec": {
      "display_name": "Python 3",
      "language": "python",
      "name": "python3"
    },
    "language_info": {
      "codemirror_mode": {
        "name": "ipython",
        "version": 3
      },
      "file_extension": ".py",
      "mimetype": "text/x-python",
      "name": "python",
      "nbconvert_exporter": "python",
      "pygments_lexer": "ipython3",
      "version": "3.8.5"
    },
    "colab": {
      "name": "Densenet.ipynb",
      "provenance": [],
      "collapsed_sections": []
    },
    "accelerator": "GPU"
  },
  "cells": [
    {
      "cell_type": "code",
      "metadata": {
        "id": "Q8L6B0PpJ2bw"
      },
      "source": [
        "import tensorflow as tf\n",
        "import numpy as np\n",
        "from keras.preprocessing.image import ImageDataGenerator\n",
        "from keras import backend as K\n",
        "from keras.models import load_model\n",
        "from keras.preprocessing.image import img_to_array\n",
        "from tensorflow.keras.optimizers import Adam, RMSprop\n",
        "from tensorflow.keras.callbacks import ReduceLROnPlateau\n",
        "from tensorflow.keras import Model \n",
        "from tensorflow.keras.applications.densenet import DenseNet121\n",
        "\n",
        "\n",
        "\n"
      ],
      "execution_count": 6,
      "outputs": []
    },
    {
      "cell_type": "code",
      "metadata": {
        "colab": {
          "base_uri": "https://localhost:8080/",
          "height": 328
        },
        "id": "teGNaXjRW10i",
        "outputId": "2d92d56c-339c-4bcf-a214-cfd6d11f7d69"
      },
      "source": [
        "from google.colab import drive\n",
        "drive.mount('/content/drive')\n"
      ],
      "execution_count": 8,
      "outputs": [
        {
          "output_type": "error",
          "ename": "MessageError",
          "evalue": "ignored",
          "traceback": [
            "\u001b[0;31m---------------------------------------------------------------------------\u001b[0m",
            "\u001b[0;31mMessageError\u001b[0m                              Traceback (most recent call last)",
            "\u001b[0;32m<ipython-input-8-d5df0069828e>\u001b[0m in \u001b[0;36m<module>\u001b[0;34m()\u001b[0m\n\u001b[1;32m      1\u001b[0m \u001b[0;32mfrom\u001b[0m \u001b[0mgoogle\u001b[0m\u001b[0;34m.\u001b[0m\u001b[0mcolab\u001b[0m \u001b[0;32mimport\u001b[0m \u001b[0mdrive\u001b[0m\u001b[0;34m\u001b[0m\u001b[0;34m\u001b[0m\u001b[0m\n\u001b[0;32m----> 2\u001b[0;31m \u001b[0mdrive\u001b[0m\u001b[0;34m.\u001b[0m\u001b[0mmount\u001b[0m\u001b[0;34m(\u001b[0m\u001b[0;34m'/content/drive'\u001b[0m\u001b[0;34m)\u001b[0m\u001b[0;34m\u001b[0m\u001b[0;34m\u001b[0m\u001b[0m\n\u001b[0m",
            "\u001b[0;32m/usr/local/lib/python3.7/dist-packages/google/colab/drive.py\u001b[0m in \u001b[0;36mmount\u001b[0;34m(mountpoint, force_remount, timeout_ms, use_metadata_server)\u001b[0m\n\u001b[1;32m    111\u001b[0m       \u001b[0mtimeout_ms\u001b[0m\u001b[0;34m=\u001b[0m\u001b[0mtimeout_ms\u001b[0m\u001b[0;34m,\u001b[0m\u001b[0;34m\u001b[0m\u001b[0;34m\u001b[0m\u001b[0m\n\u001b[1;32m    112\u001b[0m       \u001b[0muse_metadata_server\u001b[0m\u001b[0;34m=\u001b[0m\u001b[0muse_metadata_server\u001b[0m\u001b[0;34m,\u001b[0m\u001b[0;34m\u001b[0m\u001b[0;34m\u001b[0m\u001b[0m\n\u001b[0;32m--> 113\u001b[0;31m       ephemeral=ephemeral)\n\u001b[0m\u001b[1;32m    114\u001b[0m \u001b[0;34m\u001b[0m\u001b[0m\n\u001b[1;32m    115\u001b[0m \u001b[0;34m\u001b[0m\u001b[0m\n",
            "\u001b[0;32m/usr/local/lib/python3.7/dist-packages/google/colab/drive.py\u001b[0m in \u001b[0;36m_mount\u001b[0;34m(mountpoint, force_remount, timeout_ms, use_metadata_server, ephemeral)\u001b[0m\n\u001b[1;32m    134\u001b[0m   \u001b[0;32mif\u001b[0m \u001b[0mephemeral\u001b[0m\u001b[0;34m:\u001b[0m\u001b[0;34m\u001b[0m\u001b[0;34m\u001b[0m\u001b[0m\n\u001b[1;32m    135\u001b[0m     _message.blocking_request(\n\u001b[0;32m--> 136\u001b[0;31m         'request_auth', request={'authType': 'dfs_ephemeral'}, timeout_sec=None)\n\u001b[0m\u001b[1;32m    137\u001b[0m \u001b[0;34m\u001b[0m\u001b[0m\n\u001b[1;32m    138\u001b[0m   \u001b[0mmountpoint\u001b[0m \u001b[0;34m=\u001b[0m \u001b[0m_os\u001b[0m\u001b[0;34m.\u001b[0m\u001b[0mpath\u001b[0m\u001b[0;34m.\u001b[0m\u001b[0mexpanduser\u001b[0m\u001b[0;34m(\u001b[0m\u001b[0mmountpoint\u001b[0m\u001b[0;34m)\u001b[0m\u001b[0;34m\u001b[0m\u001b[0;34m\u001b[0m\u001b[0m\n",
            "\u001b[0;32m/usr/local/lib/python3.7/dist-packages/google/colab/_message.py\u001b[0m in \u001b[0;36mblocking_request\u001b[0;34m(request_type, request, timeout_sec, parent)\u001b[0m\n\u001b[1;32m    173\u001b[0m   request_id = send_request(\n\u001b[1;32m    174\u001b[0m       request_type, request, parent=parent, expect_reply=True)\n\u001b[0;32m--> 175\u001b[0;31m   \u001b[0;32mreturn\u001b[0m \u001b[0mread_reply_from_input\u001b[0m\u001b[0;34m(\u001b[0m\u001b[0mrequest_id\u001b[0m\u001b[0;34m,\u001b[0m \u001b[0mtimeout_sec\u001b[0m\u001b[0;34m)\u001b[0m\u001b[0;34m\u001b[0m\u001b[0;34m\u001b[0m\u001b[0m\n\u001b[0m",
            "\u001b[0;32m/usr/local/lib/python3.7/dist-packages/google/colab/_message.py\u001b[0m in \u001b[0;36mread_reply_from_input\u001b[0;34m(message_id, timeout_sec)\u001b[0m\n\u001b[1;32m    104\u001b[0m         reply.get('colab_msg_id') == message_id):\n\u001b[1;32m    105\u001b[0m       \u001b[0;32mif\u001b[0m \u001b[0;34m'error'\u001b[0m \u001b[0;32min\u001b[0m \u001b[0mreply\u001b[0m\u001b[0;34m:\u001b[0m\u001b[0;34m\u001b[0m\u001b[0;34m\u001b[0m\u001b[0m\n\u001b[0;32m--> 106\u001b[0;31m         \u001b[0;32mraise\u001b[0m \u001b[0mMessageError\u001b[0m\u001b[0;34m(\u001b[0m\u001b[0mreply\u001b[0m\u001b[0;34m[\u001b[0m\u001b[0;34m'error'\u001b[0m\u001b[0;34m]\u001b[0m\u001b[0;34m)\u001b[0m\u001b[0;34m\u001b[0m\u001b[0;34m\u001b[0m\u001b[0m\n\u001b[0m\u001b[1;32m    107\u001b[0m       \u001b[0;32mreturn\u001b[0m \u001b[0mreply\u001b[0m\u001b[0;34m.\u001b[0m\u001b[0mget\u001b[0m\u001b[0;34m(\u001b[0m\u001b[0;34m'data'\u001b[0m\u001b[0;34m,\u001b[0m \u001b[0;32mNone\u001b[0m\u001b[0;34m)\u001b[0m\u001b[0;34m\u001b[0m\u001b[0;34m\u001b[0m\u001b[0m\n\u001b[1;32m    108\u001b[0m \u001b[0;34m\u001b[0m\u001b[0m\n",
            "\u001b[0;31mMessageError\u001b[0m: Error: credential propagation was unsuccessful"
          ]
        }
      ]
    },
    {
      "cell_type": "code",
      "metadata": {
        "id": "ireDD-TGJ2cE"
      },
      "source": [
        "train_dir = ('/content/drive/MyDrive/dataset20s/train')\n",
        "val_dir = ('/content/drive/MyDrive/dataset20s/val')\n",
        "test_dir = ('/content/drive/MyDrive/dataset20s/test')"
      ],
      "execution_count": null,
      "outputs": []
    },
    {
      "cell_type": "code",
      "metadata": {
        "colab": {
          "base_uri": "https://localhost:8080/"
        },
        "id": "G4RVGnl4J2cG",
        "outputId": "93ec0b08-72ff-4f40-cbee-71cc655aed3d"
      },
      "source": [
        "IMAGE_SIZE = 224\n",
        "BATCH_SIZE = 16\n",
        "\n",
        "train_datagen = ImageDataGenerator(\n",
        "        rescale=1./255,\n",
        "        shear_range=0.2\n",
        "\n",
        ") \n",
        "\n",
        "valid_datagen = ImageDataGenerator(\n",
        "        rescale=1./255,\n",
        "        shear_range = 0.2,\n",
        "        height_shift_range = 0.2,\n",
        "       )\n",
        "\n",
        "\n",
        "train_gen = train_datagen.flow_from_directory(\n",
        "    train_dir,\n",
        "    target_size =(IMAGE_SIZE,IMAGE_SIZE),\n",
        "    batch_size = BATCH_SIZE,\n",
        "    class_mode='categorical',\n",
        "    color_mode='rgb'\n",
        ")\n",
        "\n",
        "valid_gen = valid_datagen.flow_from_directory(\n",
        "    val_dir,\n",
        "    target_size = (IMAGE_SIZE,IMAGE_SIZE),\n",
        "    batch_size= BATCH_SIZE,\n",
        "    class_mode='categorical',\n",
        "    color_mode= \"rgb\",\n",
        ")\n",
        "    \n"
      ],
      "execution_count": null,
      "outputs": [
        {
          "output_type": "stream",
          "name": "stdout",
          "text": [
            "Found 567 images belonging to 3 classes.\n",
            "Found 283 images belonging to 3 classes.\n"
          ]
        }
      ]
    },
    {
      "cell_type": "code",
      "metadata": {
        "id": "VlJ_L_pCJ2cK"
      },
      "source": [
        "base_model = DenseNet121(input_shape = (224, 224, 3), include_top = False, weights = 'imagenet')\n"
      ],
      "execution_count": null,
      "outputs": []
    },
    {
      "cell_type": "code",
      "metadata": {
        "id": "P52fLHyVJ2cS",
        "colab": {
          "base_uri": "https://localhost:8080/"
        },
        "outputId": "bb9c07da-57ff-4a60-9807-cbfc4f7093bd"
      },
      "source": [
        "for layer in base_model.layers[:423]:\n",
        "    layer.trainable = False\n",
        "\n",
        "for i, layer in enumerate(base_model.layers):\n",
        "    print(i, layer.name, layer.trainable)"
      ],
      "execution_count": null,
      "outputs": [
        {
          "output_type": "stream",
          "name": "stdout",
          "text": [
            "0 input_2 False\n",
            "1 zero_padding2d_2 False\n",
            "2 conv1/conv False\n",
            "3 conv1/bn False\n",
            "4 conv1/relu False\n",
            "5 zero_padding2d_3 False\n",
            "6 pool1 False\n",
            "7 conv2_block1_0_bn False\n",
            "8 conv2_block1_0_relu False\n",
            "9 conv2_block1_1_conv False\n",
            "10 conv2_block1_1_bn False\n",
            "11 conv2_block1_1_relu False\n",
            "12 conv2_block1_2_conv False\n",
            "13 conv2_block1_concat False\n",
            "14 conv2_block2_0_bn False\n",
            "15 conv2_block2_0_relu False\n",
            "16 conv2_block2_1_conv False\n",
            "17 conv2_block2_1_bn False\n",
            "18 conv2_block2_1_relu False\n",
            "19 conv2_block2_2_conv False\n",
            "20 conv2_block2_concat False\n",
            "21 conv2_block3_0_bn False\n",
            "22 conv2_block3_0_relu False\n",
            "23 conv2_block3_1_conv False\n",
            "24 conv2_block3_1_bn False\n",
            "25 conv2_block3_1_relu False\n",
            "26 conv2_block3_2_conv False\n",
            "27 conv2_block3_concat False\n",
            "28 conv2_block4_0_bn False\n",
            "29 conv2_block4_0_relu False\n",
            "30 conv2_block4_1_conv False\n",
            "31 conv2_block4_1_bn False\n",
            "32 conv2_block4_1_relu False\n",
            "33 conv2_block4_2_conv False\n",
            "34 conv2_block4_concat False\n",
            "35 conv2_block5_0_bn False\n",
            "36 conv2_block5_0_relu False\n",
            "37 conv2_block5_1_conv False\n",
            "38 conv2_block5_1_bn False\n",
            "39 conv2_block5_1_relu False\n",
            "40 conv2_block5_2_conv False\n",
            "41 conv2_block5_concat False\n",
            "42 conv2_block6_0_bn False\n",
            "43 conv2_block6_0_relu False\n",
            "44 conv2_block6_1_conv False\n",
            "45 conv2_block6_1_bn False\n",
            "46 conv2_block6_1_relu False\n",
            "47 conv2_block6_2_conv False\n",
            "48 conv2_block6_concat False\n",
            "49 pool2_bn False\n",
            "50 pool2_relu False\n",
            "51 pool2_conv False\n",
            "52 pool2_pool False\n",
            "53 conv3_block1_0_bn False\n",
            "54 conv3_block1_0_relu False\n",
            "55 conv3_block1_1_conv False\n",
            "56 conv3_block1_1_bn False\n",
            "57 conv3_block1_1_relu False\n",
            "58 conv3_block1_2_conv False\n",
            "59 conv3_block1_concat False\n",
            "60 conv3_block2_0_bn False\n",
            "61 conv3_block2_0_relu False\n",
            "62 conv3_block2_1_conv False\n",
            "63 conv3_block2_1_bn False\n",
            "64 conv3_block2_1_relu False\n",
            "65 conv3_block2_2_conv False\n",
            "66 conv3_block2_concat False\n",
            "67 conv3_block3_0_bn False\n",
            "68 conv3_block3_0_relu False\n",
            "69 conv3_block3_1_conv False\n",
            "70 conv3_block3_1_bn False\n",
            "71 conv3_block3_1_relu False\n",
            "72 conv3_block3_2_conv False\n",
            "73 conv3_block3_concat False\n",
            "74 conv3_block4_0_bn False\n",
            "75 conv3_block4_0_relu False\n",
            "76 conv3_block4_1_conv False\n",
            "77 conv3_block4_1_bn False\n",
            "78 conv3_block4_1_relu False\n",
            "79 conv3_block4_2_conv False\n",
            "80 conv3_block4_concat False\n",
            "81 conv3_block5_0_bn False\n",
            "82 conv3_block5_0_relu False\n",
            "83 conv3_block5_1_conv False\n",
            "84 conv3_block5_1_bn False\n",
            "85 conv3_block5_1_relu False\n",
            "86 conv3_block5_2_conv False\n",
            "87 conv3_block5_concat False\n",
            "88 conv3_block6_0_bn False\n",
            "89 conv3_block6_0_relu False\n",
            "90 conv3_block6_1_conv False\n",
            "91 conv3_block6_1_bn False\n",
            "92 conv3_block6_1_relu False\n",
            "93 conv3_block6_2_conv False\n",
            "94 conv3_block6_concat False\n",
            "95 conv3_block7_0_bn False\n",
            "96 conv3_block7_0_relu False\n",
            "97 conv3_block7_1_conv False\n",
            "98 conv3_block7_1_bn False\n",
            "99 conv3_block7_1_relu False\n",
            "100 conv3_block7_2_conv False\n",
            "101 conv3_block7_concat False\n",
            "102 conv3_block8_0_bn False\n",
            "103 conv3_block8_0_relu False\n",
            "104 conv3_block8_1_conv False\n",
            "105 conv3_block8_1_bn False\n",
            "106 conv3_block8_1_relu False\n",
            "107 conv3_block8_2_conv False\n",
            "108 conv3_block8_concat False\n",
            "109 conv3_block9_0_bn False\n",
            "110 conv3_block9_0_relu False\n",
            "111 conv3_block9_1_conv False\n",
            "112 conv3_block9_1_bn False\n",
            "113 conv3_block9_1_relu False\n",
            "114 conv3_block9_2_conv False\n",
            "115 conv3_block9_concat False\n",
            "116 conv3_block10_0_bn False\n",
            "117 conv3_block10_0_relu False\n",
            "118 conv3_block10_1_conv False\n",
            "119 conv3_block10_1_bn False\n",
            "120 conv3_block10_1_relu False\n",
            "121 conv3_block10_2_conv False\n",
            "122 conv3_block10_concat False\n",
            "123 conv3_block11_0_bn False\n",
            "124 conv3_block11_0_relu False\n",
            "125 conv3_block11_1_conv False\n",
            "126 conv3_block11_1_bn False\n",
            "127 conv3_block11_1_relu False\n",
            "128 conv3_block11_2_conv False\n",
            "129 conv3_block11_concat False\n",
            "130 conv3_block12_0_bn False\n",
            "131 conv3_block12_0_relu False\n",
            "132 conv3_block12_1_conv False\n",
            "133 conv3_block12_1_bn False\n",
            "134 conv3_block12_1_relu False\n",
            "135 conv3_block12_2_conv False\n",
            "136 conv3_block12_concat False\n",
            "137 pool3_bn False\n",
            "138 pool3_relu False\n",
            "139 pool3_conv False\n",
            "140 pool3_pool False\n",
            "141 conv4_block1_0_bn False\n",
            "142 conv4_block1_0_relu False\n",
            "143 conv4_block1_1_conv False\n",
            "144 conv4_block1_1_bn False\n",
            "145 conv4_block1_1_relu False\n",
            "146 conv4_block1_2_conv False\n",
            "147 conv4_block1_concat False\n",
            "148 conv4_block2_0_bn False\n",
            "149 conv4_block2_0_relu False\n",
            "150 conv4_block2_1_conv False\n",
            "151 conv4_block2_1_bn False\n",
            "152 conv4_block2_1_relu False\n",
            "153 conv4_block2_2_conv False\n",
            "154 conv4_block2_concat False\n",
            "155 conv4_block3_0_bn False\n",
            "156 conv4_block3_0_relu False\n",
            "157 conv4_block3_1_conv False\n",
            "158 conv4_block3_1_bn False\n",
            "159 conv4_block3_1_relu False\n",
            "160 conv4_block3_2_conv False\n",
            "161 conv4_block3_concat False\n",
            "162 conv4_block4_0_bn False\n",
            "163 conv4_block4_0_relu False\n",
            "164 conv4_block4_1_conv False\n",
            "165 conv4_block4_1_bn False\n",
            "166 conv4_block4_1_relu False\n",
            "167 conv4_block4_2_conv False\n",
            "168 conv4_block4_concat False\n",
            "169 conv4_block5_0_bn False\n",
            "170 conv4_block5_0_relu False\n",
            "171 conv4_block5_1_conv False\n",
            "172 conv4_block5_1_bn False\n",
            "173 conv4_block5_1_relu False\n",
            "174 conv4_block5_2_conv False\n",
            "175 conv4_block5_concat False\n",
            "176 conv4_block6_0_bn False\n",
            "177 conv4_block6_0_relu False\n",
            "178 conv4_block6_1_conv False\n",
            "179 conv4_block6_1_bn False\n",
            "180 conv4_block6_1_relu False\n",
            "181 conv4_block6_2_conv False\n",
            "182 conv4_block6_concat False\n",
            "183 conv4_block7_0_bn False\n",
            "184 conv4_block7_0_relu False\n",
            "185 conv4_block7_1_conv False\n",
            "186 conv4_block7_1_bn False\n",
            "187 conv4_block7_1_relu False\n",
            "188 conv4_block7_2_conv False\n",
            "189 conv4_block7_concat False\n",
            "190 conv4_block8_0_bn False\n",
            "191 conv4_block8_0_relu False\n",
            "192 conv4_block8_1_conv False\n",
            "193 conv4_block8_1_bn False\n",
            "194 conv4_block8_1_relu False\n",
            "195 conv4_block8_2_conv False\n",
            "196 conv4_block8_concat False\n",
            "197 conv4_block9_0_bn False\n",
            "198 conv4_block9_0_relu False\n",
            "199 conv4_block9_1_conv False\n",
            "200 conv4_block9_1_bn False\n",
            "201 conv4_block9_1_relu False\n",
            "202 conv4_block9_2_conv False\n",
            "203 conv4_block9_concat False\n",
            "204 conv4_block10_0_bn False\n",
            "205 conv4_block10_0_relu False\n",
            "206 conv4_block10_1_conv False\n",
            "207 conv4_block10_1_bn False\n",
            "208 conv4_block10_1_relu False\n",
            "209 conv4_block10_2_conv False\n",
            "210 conv4_block10_concat False\n",
            "211 conv4_block11_0_bn False\n",
            "212 conv4_block11_0_relu False\n",
            "213 conv4_block11_1_conv False\n",
            "214 conv4_block11_1_bn False\n",
            "215 conv4_block11_1_relu False\n",
            "216 conv4_block11_2_conv False\n",
            "217 conv4_block11_concat False\n",
            "218 conv4_block12_0_bn False\n",
            "219 conv4_block12_0_relu False\n",
            "220 conv4_block12_1_conv False\n",
            "221 conv4_block12_1_bn False\n",
            "222 conv4_block12_1_relu False\n",
            "223 conv4_block12_2_conv False\n",
            "224 conv4_block12_concat False\n",
            "225 conv4_block13_0_bn False\n",
            "226 conv4_block13_0_relu False\n",
            "227 conv4_block13_1_conv False\n",
            "228 conv4_block13_1_bn False\n",
            "229 conv4_block13_1_relu False\n",
            "230 conv4_block13_2_conv False\n",
            "231 conv4_block13_concat False\n",
            "232 conv4_block14_0_bn False\n",
            "233 conv4_block14_0_relu False\n",
            "234 conv4_block14_1_conv False\n",
            "235 conv4_block14_1_bn False\n",
            "236 conv4_block14_1_relu False\n",
            "237 conv4_block14_2_conv False\n",
            "238 conv4_block14_concat False\n",
            "239 conv4_block15_0_bn False\n",
            "240 conv4_block15_0_relu False\n",
            "241 conv4_block15_1_conv False\n",
            "242 conv4_block15_1_bn False\n",
            "243 conv4_block15_1_relu False\n",
            "244 conv4_block15_2_conv False\n",
            "245 conv4_block15_concat False\n",
            "246 conv4_block16_0_bn False\n",
            "247 conv4_block16_0_relu False\n",
            "248 conv4_block16_1_conv False\n",
            "249 conv4_block16_1_bn False\n",
            "250 conv4_block16_1_relu False\n",
            "251 conv4_block16_2_conv False\n",
            "252 conv4_block16_concat False\n",
            "253 conv4_block17_0_bn False\n",
            "254 conv4_block17_0_relu False\n",
            "255 conv4_block17_1_conv False\n",
            "256 conv4_block17_1_bn False\n",
            "257 conv4_block17_1_relu False\n",
            "258 conv4_block17_2_conv False\n",
            "259 conv4_block17_concat False\n",
            "260 conv4_block18_0_bn False\n",
            "261 conv4_block18_0_relu False\n",
            "262 conv4_block18_1_conv False\n",
            "263 conv4_block18_1_bn False\n",
            "264 conv4_block18_1_relu False\n",
            "265 conv4_block18_2_conv False\n",
            "266 conv4_block18_concat False\n",
            "267 conv4_block19_0_bn False\n",
            "268 conv4_block19_0_relu False\n",
            "269 conv4_block19_1_conv False\n",
            "270 conv4_block19_1_bn False\n",
            "271 conv4_block19_1_relu False\n",
            "272 conv4_block19_2_conv False\n",
            "273 conv4_block19_concat False\n",
            "274 conv4_block20_0_bn False\n",
            "275 conv4_block20_0_relu False\n",
            "276 conv4_block20_1_conv False\n",
            "277 conv4_block20_1_bn False\n",
            "278 conv4_block20_1_relu False\n",
            "279 conv4_block20_2_conv False\n",
            "280 conv4_block20_concat False\n",
            "281 conv4_block21_0_bn False\n",
            "282 conv4_block21_0_relu False\n",
            "283 conv4_block21_1_conv False\n",
            "284 conv4_block21_1_bn False\n",
            "285 conv4_block21_1_relu False\n",
            "286 conv4_block21_2_conv False\n",
            "287 conv4_block21_concat False\n",
            "288 conv4_block22_0_bn False\n",
            "289 conv4_block22_0_relu False\n",
            "290 conv4_block22_1_conv False\n",
            "291 conv4_block22_1_bn False\n",
            "292 conv4_block22_1_relu False\n",
            "293 conv4_block22_2_conv False\n",
            "294 conv4_block22_concat False\n",
            "295 conv4_block23_0_bn False\n",
            "296 conv4_block23_0_relu False\n",
            "297 conv4_block23_1_conv False\n",
            "298 conv4_block23_1_bn False\n",
            "299 conv4_block23_1_relu False\n",
            "300 conv4_block23_2_conv False\n",
            "301 conv4_block23_concat False\n",
            "302 conv4_block24_0_bn False\n",
            "303 conv4_block24_0_relu False\n",
            "304 conv4_block24_1_conv False\n",
            "305 conv4_block24_1_bn False\n",
            "306 conv4_block24_1_relu False\n",
            "307 conv4_block24_2_conv False\n",
            "308 conv4_block24_concat False\n",
            "309 pool4_bn False\n",
            "310 pool4_relu False\n",
            "311 pool4_conv False\n",
            "312 pool4_pool False\n",
            "313 conv5_block1_0_bn False\n",
            "314 conv5_block1_0_relu False\n",
            "315 conv5_block1_1_conv False\n",
            "316 conv5_block1_1_bn False\n",
            "317 conv5_block1_1_relu False\n",
            "318 conv5_block1_2_conv False\n",
            "319 conv5_block1_concat False\n",
            "320 conv5_block2_0_bn False\n",
            "321 conv5_block2_0_relu False\n",
            "322 conv5_block2_1_conv False\n",
            "323 conv5_block2_1_bn False\n",
            "324 conv5_block2_1_relu False\n",
            "325 conv5_block2_2_conv False\n",
            "326 conv5_block2_concat False\n",
            "327 conv5_block3_0_bn False\n",
            "328 conv5_block3_0_relu False\n",
            "329 conv5_block3_1_conv False\n",
            "330 conv5_block3_1_bn False\n",
            "331 conv5_block3_1_relu False\n",
            "332 conv5_block3_2_conv False\n",
            "333 conv5_block3_concat False\n",
            "334 conv5_block4_0_bn False\n",
            "335 conv5_block4_0_relu False\n",
            "336 conv5_block4_1_conv False\n",
            "337 conv5_block4_1_bn False\n",
            "338 conv5_block4_1_relu False\n",
            "339 conv5_block4_2_conv False\n",
            "340 conv5_block4_concat False\n",
            "341 conv5_block5_0_bn False\n",
            "342 conv5_block5_0_relu False\n",
            "343 conv5_block5_1_conv False\n",
            "344 conv5_block5_1_bn False\n",
            "345 conv5_block5_1_relu False\n",
            "346 conv5_block5_2_conv False\n",
            "347 conv5_block5_concat False\n",
            "348 conv5_block6_0_bn False\n",
            "349 conv5_block6_0_relu False\n",
            "350 conv5_block6_1_conv False\n",
            "351 conv5_block6_1_bn False\n",
            "352 conv5_block6_1_relu False\n",
            "353 conv5_block6_2_conv False\n",
            "354 conv5_block6_concat False\n",
            "355 conv5_block7_0_bn False\n",
            "356 conv5_block7_0_relu False\n",
            "357 conv5_block7_1_conv False\n",
            "358 conv5_block7_1_bn False\n",
            "359 conv5_block7_1_relu False\n",
            "360 conv5_block7_2_conv False\n",
            "361 conv5_block7_concat False\n",
            "362 conv5_block8_0_bn False\n",
            "363 conv5_block8_0_relu False\n",
            "364 conv5_block8_1_conv False\n",
            "365 conv5_block8_1_bn False\n",
            "366 conv5_block8_1_relu False\n",
            "367 conv5_block8_2_conv False\n",
            "368 conv5_block8_concat False\n",
            "369 conv5_block9_0_bn False\n",
            "370 conv5_block9_0_relu False\n",
            "371 conv5_block9_1_conv False\n",
            "372 conv5_block9_1_bn False\n",
            "373 conv5_block9_1_relu False\n",
            "374 conv5_block9_2_conv False\n",
            "375 conv5_block9_concat False\n",
            "376 conv5_block10_0_bn False\n",
            "377 conv5_block10_0_relu False\n",
            "378 conv5_block10_1_conv False\n",
            "379 conv5_block10_1_bn False\n",
            "380 conv5_block10_1_relu False\n",
            "381 conv5_block10_2_conv False\n",
            "382 conv5_block10_concat False\n",
            "383 conv5_block11_0_bn False\n",
            "384 conv5_block11_0_relu False\n",
            "385 conv5_block11_1_conv False\n",
            "386 conv5_block11_1_bn False\n",
            "387 conv5_block11_1_relu False\n",
            "388 conv5_block11_2_conv False\n",
            "389 conv5_block11_concat False\n",
            "390 conv5_block12_0_bn False\n",
            "391 conv5_block12_0_relu False\n",
            "392 conv5_block12_1_conv False\n",
            "393 conv5_block12_1_bn False\n",
            "394 conv5_block12_1_relu False\n",
            "395 conv5_block12_2_conv False\n",
            "396 conv5_block12_concat False\n",
            "397 conv5_block13_0_bn False\n",
            "398 conv5_block13_0_relu False\n",
            "399 conv5_block13_1_conv False\n",
            "400 conv5_block13_1_bn False\n",
            "401 conv5_block13_1_relu False\n",
            "402 conv5_block13_2_conv False\n",
            "403 conv5_block13_concat False\n",
            "404 conv5_block14_0_bn False\n",
            "405 conv5_block14_0_relu False\n",
            "406 conv5_block14_1_conv False\n",
            "407 conv5_block14_1_bn False\n",
            "408 conv5_block14_1_relu False\n",
            "409 conv5_block14_2_conv False\n",
            "410 conv5_block14_concat False\n",
            "411 conv5_block15_0_bn False\n",
            "412 conv5_block15_0_relu False\n",
            "413 conv5_block15_1_conv False\n",
            "414 conv5_block15_1_bn False\n",
            "415 conv5_block15_1_relu False\n",
            "416 conv5_block15_2_conv False\n",
            "417 conv5_block15_concat False\n",
            "418 conv5_block16_0_bn False\n",
            "419 conv5_block16_0_relu False\n",
            "420 conv5_block16_1_conv False\n",
            "421 conv5_block16_1_bn False\n",
            "422 conv5_block16_1_relu False\n",
            "423 conv5_block16_2_conv True\n",
            "424 conv5_block16_concat True\n",
            "425 bn True\n",
            "426 relu True\n"
          ]
        }
      ]
    },
    {
      "cell_type": "code",
      "metadata": {
        "id": "s9WHCNjnJ2cU"
      },
      "source": [
        "from tensorflow.keras import layers \n",
        "x = layers.Flatten()(base_model.output)\n",
        "x = layers.Dense(1024, activation='relu')(x)\n",
        "x = layers.Dropout(0.5)(x)\n",
        "x = layers.Dense(512, activation='relu')(x)\n",
        "x = layers.Dropout(0.5)(x)\n",
        "x = layers.Dense(3, activation='softmax')(x)\n",
        "model = tf.keras.models.Model(base_model.input, x)\n",
        "model.compile(optimizer='adam', loss=tf.keras.losses.categorical_crossentropy, metrics=['acc'])\n"
      ],
      "execution_count": null,
      "outputs": []
    },
    {
      "cell_type": "code",
      "metadata": {
        "colab": {
          "base_uri": "https://localhost:8080/"
        },
        "id": "6VjnI2YUJ2cf",
        "outputId": "87e62ccc-5d0b-448c-f609-363ead61ef4f"
      },
      "source": [
        "from matplotlib import pyplot as plt\n",
        "\n",
        "history = model.fit(train_gen,epochs = 50,validation_data = valid_gen)\n",
        "plt.plot(history.history['acc'])\n",
        "plt.plot(history.history['val_acc'])\n",
        "plt.title('model accuracy')\n",
        "plt.ylabel('accuracy')\n",
        "plt.xlabel('epoch')\n",
        "plt.legend(['train', 'val'], loc='upper left')\n",
        "plt.show()"
      ],
      "execution_count": null,
      "outputs": [
        {
          "output_type": "stream",
          "name": "stdout",
          "text": [
            "Epoch 1/50\n",
            "31/36 [========================>.....] - ETA: 1s - loss: 33.0330 - acc: 0.3901"
          ]
        }
      ]
    },
    {
      "cell_type": "code",
      "metadata": {
        "colab": {
          "base_uri": "https://localhost:8080/"
        },
        "id": "jHtIRRdCCAsg",
        "outputId": "38496977-0603-4729-af08-23a1e71b4fa2"
      },
      "source": [
        " test_datagen = ImageDataGenerator(\n",
        "        rescale=1./255)\n",
        "\n",
        "\n",
        "test_gen = test_datagen.flow_from_directory(\n",
        "    test_dir,\n",
        "    target_size = (IMAGE_SIZE,IMAGE_SIZE),\n",
        "    batch_size= BATCH_SIZE,\n",
        "    class_mode='categorical'\n",
        ")\n",
        "\n",
        "\n",
        "pred = model.predict_generator(test_gen, steps=10, verbose=1)"
      ],
      "execution_count": null,
      "outputs": [
        {
          "output_type": "stream",
          "name": "stdout",
          "text": [
            "Found 115 images belonging to 3 classes.\n"
          ]
        },
        {
          "output_type": "stream",
          "name": "stderr",
          "text": [
            "/usr/local/lib/python3.7/dist-packages/keras/engine/training.py:2035: UserWarning: `Model.predict_generator` is deprecated and will be removed in a future version. Please use `Model.predict`, which supports generators.\n",
            "  warnings.warn('`Model.predict_generator` is deprecated and '\n"
          ]
        },
        {
          "output_type": "stream",
          "name": "stdout",
          "text": [
            " 8/10 [=======================>......] - ETA: 8s WARNING:tensorflow:Your input ran out of data; interrupting training. Make sure that your dataset or generator can generate at least `steps_per_epoch * epochs` batches (in this case, 10 batches). You may need to use the repeat() function when building your dataset.\n",
            "10/10 [==============================] - 31s 3s/step\n"
          ]
        }
      ]
    },
    {
      "cell_type": "code",
      "metadata": {
        "colab": {
          "base_uri": "https://localhost:8080/"
        },
        "id": "_nyDHxxMrtor",
        "outputId": "1b42c3c8-a7b0-4741-a625-8f3422f76043"
      },
      "source": [
        "final_loss, final_acc = model.evaluate(valid_gen, verbose=0)\n",
        "print(\"Final loss: {0:.6f}, final accuracy: {1:.6f}\".format(final_loss, final_acc))"
      ],
      "execution_count": null,
      "outputs": [
        {
          "output_type": "stream",
          "name": "stdout",
          "text": [
            "Final loss: 1.109834, final accuracy: 0.642202\n"
          ]
        }
      ]
    },
    {
      "cell_type": "code",
      "metadata": {
        "id": "IgsWHOk8C9wC"
      },
      "source": [
        "predicted_class = np.argmax(pred,axis=1)\n"
      ],
      "execution_count": null,
      "outputs": []
    },
    {
      "cell_type": "code",
      "metadata": {
        "id": "IQVsmre1FdE6"
      },
      "source": [
        "l = dict((v,k) for k,v in train_gen.class_indices.items())\n",
        "prednames = [l[k] for k in predicted_class]\n"
      ],
      "execution_count": null,
      "outputs": []
    },
    {
      "cell_type": "code",
      "metadata": {
        "id": "VVknm8gfG73v"
      },
      "source": [
        "filenames = test_gen.filenames\n"
      ],
      "execution_count": null,
      "outputs": []
    },
    {
      "cell_type": "code",
      "metadata": {
        "id": "rVV6q8VJHHIu"
      },
      "source": [
        "import pandas as pd\n",
        "finaldf = pd.DataFrame({'Filename': filenames,'Prediction': prednames})\n"
      ],
      "execution_count": null,
      "outputs": []
    },
    {
      "cell_type": "code",
      "metadata": {
        "id": "AUQujGRRHKp8"
      },
      "source": [
        "finaldf.to_csv(\"pred25s.csv\")"
      ],
      "execution_count": null,
      "outputs": []
    },
    {
      "cell_type": "code",
      "metadata": {
        "id": "jSVpaY5rH2vi"
      },
      "source": [
        ""
      ],
      "execution_count": null,
      "outputs": []
    }
  ]
}