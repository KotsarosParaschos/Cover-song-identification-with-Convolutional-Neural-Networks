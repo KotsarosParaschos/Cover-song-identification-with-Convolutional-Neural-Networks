{
 "cells": [
  {
   "cell_type": "code",
   "execution_count": null,
   "metadata": {},
   "outputs": [],
   "source": [
    "from pydub import AudioSegment\n",
    "from pydub.utils import make_chunks\n",
    "import os\n",
    "from os.path import basename\n",
    "import pandas as pd\n",
    "import numpy as np\n",
    "from numpy import argmax\n",
    "import matplotlib.pyplot as plt\n",
    "%matplotlib inline\n",
    "import librosa\n",
    "import librosa.display\n",
    "import IPython.display\n",
    "import random\n",
    "import warnings\n",
    "from PIL import Image\n",
    "import pathlib\n",
    "import csv\n",
    "\n",
    "path = \"C:\\\\Users\\\\Paris\\\\Documents\\\\Ptyxiaki\\\\cutsongs\\\\\" #path of the short mp3s that will be used for images\n",
    "\n",
    "\n",
    "for root,dirs,files in os.walk(path):\n",
    "    for i in dirs:\n",
    "        pathlib.Path(f'img_data/{i}').mkdir(parents=True, exist_ok=True) #creates a file where the images will be saved\n",
    "        for filename in os.listdir(f\"C:\\\\Users\\\\Paris\\\\Documents\\\\Ptyxiaki\\\\cutsongs\\\\{i}\"): #loops through the short mp3 files\n",
    "            songname = f'C:\\\\Users\\\\Paris\\\\Documents\\\\Ptyxiaki\\\\cutsongs\\\\{i}\\\\{filename}'\n",
    "            y, sr = librosa.load(songname, mono=True,) #gets the raw data of the mp3\n",
    "            plt.specgram(y, NFFT=1024, Fs=2, Fc=0, noverlap=128, sides='default', mode='default', scale='dB'); #creates a sepctogram\n",
    "            plt.axis('off');\n",
    "            plt.savefig(f'img_data/{i}/{filename[:-3].replace(\".\", \"\")}.png') #saves the spectogram as an image \n",
    "            plt.clf()\n",
    "             \n",
    "print(\"Done\")\n"
   ]
  },
  {
   "cell_type": "code",
   "execution_count": null,
   "metadata": {},
   "outputs": [],
   "source": [
    "import splitfolders \n",
    "\n",
    "base_dir = r\"C:\\Users\\Paris\\Documents\\img_data\" #directory of the images\n",
    "processed_data = r\"C:\\Users\\Paris\\Documents\\dataset20s\" #where the split folders for the dataset will be saved\n",
    "\n",
    "splitfolders.ratio(base_dir,processed_data,seed=42,ratio=(.6,.4,))\n",
    "print('done')"
   ]
  },
  {
   "cell_type": "code",
   "execution_count": null,
   "metadata": {},
   "outputs": [],
   "source": []
  }
 ],
 "metadata": {
  "kernelspec": {
   "display_name": "Python 3",
   "language": "python",
   "name": "python3"
  },
  "language_info": {
   "codemirror_mode": {
    "name": "ipython",
    "version": 3
   },
   "file_extension": ".py",
   "mimetype": "text/x-python",
   "name": "python",
   "nbconvert_exporter": "python",
   "pygments_lexer": "ipython3",
   "version": "3.8.5"
  }
 },
 "nbformat": 4,
 "nbformat_minor": 4
}
