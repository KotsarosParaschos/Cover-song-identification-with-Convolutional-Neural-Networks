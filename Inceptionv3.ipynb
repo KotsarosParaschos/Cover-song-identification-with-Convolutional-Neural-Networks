{
  "nbformat": 4,
  "nbformat_minor": 0,
  "metadata": {
    "kernelspec": {
      "display_name": "Python 3",
      "language": "python",
      "name": "python3"
    },
    "language_info": {
      "codemirror_mode": {
        "name": "ipython",
        "version": 3
      },
      "file_extension": ".py",
      "mimetype": "text/x-python",
      "name": "python",
      "nbconvert_exporter": "python",
      "pygments_lexer": "ipython3",
      "version": "3.8.5"
    },
    "colab": {
      "name": "Inceptionv3.ipynb",
      "provenance": [],
      "collapsed_sections": []
    },
    "accelerator": "GPU"
  },
  "cells": [
    {
      "cell_type": "code",
      "metadata": {
        "id": "Q8L6B0PpJ2bw"
      },
      "source": [
        "import tensorflow as tf\n",
        "import numpy as np\n",
        "from keras.preprocessing.image import ImageDataGenerator\n",
        "from keras import backend as K\n",
        "from keras.models import load_model\n",
        "from keras.preprocessing.image import img_to_array\n",
        "from tensorflow.keras.optimizers import Adam, RMSprop\n",
        "from tensorflow.keras.callbacks import ReduceLROnPlateau\n",
        "from tensorflow.keras import Model \n",
        "from tensorflow.keras.applications.inception_v3 import InceptionV3\n",
        "\n",
        "\n",
        "\n"
      ],
      "execution_count": 1,
      "outputs": []
    },
    {
      "cell_type": "code",
      "metadata": {
        "colab": {
          "base_uri": "https://localhost:8080/"
        },
        "id": "teGNaXjRW10i",
        "outputId": "70dd2daa-0361-49d7-af9c-8463c285f83c"
      },
      "source": [
        "from google.colab import drive\n",
        "drive.mount('/content/drive')"
      ],
      "execution_count": 2,
      "outputs": [
        {
          "output_type": "stream",
          "name": "stdout",
          "text": [
            "Mounted at /content/drive\n"
          ]
        }
      ]
    },
    {
      "cell_type": "code",
      "metadata": {
        "id": "ireDD-TGJ2cE"
      },
      "source": [
        "train_dir = ('/content/drive/MyDrive/dataset25s/train')\n",
        "val_dir = ('/content/drive/MyDrive/dataset25s/val')\n",
        "test_dir = ('/content/drive/MyDrive/dataset25s/test')"
      ],
      "execution_count": 17,
      "outputs": []
    },
    {
      "cell_type": "code",
      "metadata": {
        "colab": {
          "base_uri": "https://localhost:8080/"
        },
        "id": "G4RVGnl4J2cG",
        "outputId": "82449199-b346-4ec1-8e5b-e31b447ca0f9"
      },
      "source": [
        "IMAGE_SIZE = 155\n",
        "BATCH_SIZE = 12\n",
        "\n",
        "train_datagen = ImageDataGenerator(\n",
        "        rescale=1./255,\n",
        "        shear_range=0.2\n",
        "\n",
        ") \n",
        "\n",
        "valid_datagen = ImageDataGenerator(\n",
        "        rescale=1./255,\n",
        "        shear_range = 0.2,\n",
        "        height_shift_range = 0.2,\n",
        "       )\n",
        "\n",
        "\n",
        "train_gen = train_datagen.flow_from_directory(\n",
        "    train_dir,\n",
        "    target_size =(IMAGE_SIZE,IMAGE_SIZE),\n",
        "    batch_size = BATCH_SIZE,\n",
        "    class_mode='categorical',\n",
        "    color_mode='rgb'\n",
        ")\n",
        "\n",
        "valid_gen = valid_datagen.flow_from_directory(\n",
        "    val_dir,\n",
        "    target_size = (IMAGE_SIZE,IMAGE_SIZE),\n",
        "    batch_size= BATCH_SIZE,\n",
        "    class_mode='categorical',\n",
        "    color_mode= \"rgb\",\n",
        ")\n",
        "    \n"
      ],
      "execution_count": 18,
      "outputs": [
        {
          "output_type": "stream",
          "name": "stdout",
          "text": [
            "Found 454 images belonging to 3 classes.\n",
            "Found 226 images belonging to 3 classes.\n"
          ]
        }
      ]
    },
    {
      "cell_type": "code",
      "metadata": {
        "id": "VlJ_L_pCJ2cK"
      },
      "source": [
        "base_model = InceptionV3(input_shape = (150, 150, 3), include_top = False, weights = 'imagenet')\n"
      ],
      "execution_count": 19,
      "outputs": []
    },
    {
      "cell_type": "code",
      "metadata": {
        "id": "P52fLHyVJ2cS",
        "colab": {
          "base_uri": "https://localhost:8080/"
        },
        "outputId": "517edc19-750b-485d-a4fb-11ecc4f2bbf7"
      },
      "source": [
        "for layer in base_model.layers:\n",
        "    layer.trainable = False\n",
        "\n",
        "for i, layer in enumerate(base_model.layers):\n",
        "    print(i, layer.name, layer.trainable)"
      ],
      "execution_count": 20,
      "outputs": [
        {
          "output_type": "stream",
          "name": "stdout",
          "text": [
            "0 input_3 False\n",
            "1 conv2d_188 False\n",
            "2 batch_normalization_188 False\n",
            "3 activation_188 False\n",
            "4 conv2d_189 False\n",
            "5 batch_normalization_189 False\n",
            "6 activation_189 False\n",
            "7 conv2d_190 False\n",
            "8 batch_normalization_190 False\n",
            "9 activation_190 False\n",
            "10 max_pooling2d_8 False\n",
            "11 conv2d_191 False\n",
            "12 batch_normalization_191 False\n",
            "13 activation_191 False\n",
            "14 conv2d_192 False\n",
            "15 batch_normalization_192 False\n",
            "16 activation_192 False\n",
            "17 max_pooling2d_9 False\n",
            "18 conv2d_196 False\n",
            "19 batch_normalization_196 False\n",
            "20 activation_196 False\n",
            "21 conv2d_194 False\n",
            "22 conv2d_197 False\n",
            "23 batch_normalization_194 False\n",
            "24 batch_normalization_197 False\n",
            "25 activation_194 False\n",
            "26 activation_197 False\n",
            "27 average_pooling2d_18 False\n",
            "28 conv2d_193 False\n",
            "29 conv2d_195 False\n",
            "30 conv2d_198 False\n",
            "31 conv2d_199 False\n",
            "32 batch_normalization_193 False\n",
            "33 batch_normalization_195 False\n",
            "34 batch_normalization_198 False\n",
            "35 batch_normalization_199 False\n",
            "36 activation_193 False\n",
            "37 activation_195 False\n",
            "38 activation_198 False\n",
            "39 activation_199 False\n",
            "40 mixed0 False\n",
            "41 conv2d_203 False\n",
            "42 batch_normalization_203 False\n",
            "43 activation_203 False\n",
            "44 conv2d_201 False\n",
            "45 conv2d_204 False\n",
            "46 batch_normalization_201 False\n",
            "47 batch_normalization_204 False\n",
            "48 activation_201 False\n",
            "49 activation_204 False\n",
            "50 average_pooling2d_19 False\n",
            "51 conv2d_200 False\n",
            "52 conv2d_202 False\n",
            "53 conv2d_205 False\n",
            "54 conv2d_206 False\n",
            "55 batch_normalization_200 False\n",
            "56 batch_normalization_202 False\n",
            "57 batch_normalization_205 False\n",
            "58 batch_normalization_206 False\n",
            "59 activation_200 False\n",
            "60 activation_202 False\n",
            "61 activation_205 False\n",
            "62 activation_206 False\n",
            "63 mixed1 False\n",
            "64 conv2d_210 False\n",
            "65 batch_normalization_210 False\n",
            "66 activation_210 False\n",
            "67 conv2d_208 False\n",
            "68 conv2d_211 False\n",
            "69 batch_normalization_208 False\n",
            "70 batch_normalization_211 False\n",
            "71 activation_208 False\n",
            "72 activation_211 False\n",
            "73 average_pooling2d_20 False\n",
            "74 conv2d_207 False\n",
            "75 conv2d_209 False\n",
            "76 conv2d_212 False\n",
            "77 conv2d_213 False\n",
            "78 batch_normalization_207 False\n",
            "79 batch_normalization_209 False\n",
            "80 batch_normalization_212 False\n",
            "81 batch_normalization_213 False\n",
            "82 activation_207 False\n",
            "83 activation_209 False\n",
            "84 activation_212 False\n",
            "85 activation_213 False\n",
            "86 mixed2 False\n",
            "87 conv2d_215 False\n",
            "88 batch_normalization_215 False\n",
            "89 activation_215 False\n",
            "90 conv2d_216 False\n",
            "91 batch_normalization_216 False\n",
            "92 activation_216 False\n",
            "93 conv2d_214 False\n",
            "94 conv2d_217 False\n",
            "95 batch_normalization_214 False\n",
            "96 batch_normalization_217 False\n",
            "97 activation_214 False\n",
            "98 activation_217 False\n",
            "99 max_pooling2d_10 False\n",
            "100 mixed3 False\n",
            "101 conv2d_222 False\n",
            "102 batch_normalization_222 False\n",
            "103 activation_222 False\n",
            "104 conv2d_223 False\n",
            "105 batch_normalization_223 False\n",
            "106 activation_223 False\n",
            "107 conv2d_219 False\n",
            "108 conv2d_224 False\n",
            "109 batch_normalization_219 False\n",
            "110 batch_normalization_224 False\n",
            "111 activation_219 False\n",
            "112 activation_224 False\n",
            "113 conv2d_220 False\n",
            "114 conv2d_225 False\n",
            "115 batch_normalization_220 False\n",
            "116 batch_normalization_225 False\n",
            "117 activation_220 False\n",
            "118 activation_225 False\n",
            "119 average_pooling2d_21 False\n",
            "120 conv2d_218 False\n",
            "121 conv2d_221 False\n",
            "122 conv2d_226 False\n",
            "123 conv2d_227 False\n",
            "124 batch_normalization_218 False\n",
            "125 batch_normalization_221 False\n",
            "126 batch_normalization_226 False\n",
            "127 batch_normalization_227 False\n",
            "128 activation_218 False\n",
            "129 activation_221 False\n",
            "130 activation_226 False\n",
            "131 activation_227 False\n",
            "132 mixed4 False\n",
            "133 conv2d_232 False\n",
            "134 batch_normalization_232 False\n",
            "135 activation_232 False\n",
            "136 conv2d_233 False\n",
            "137 batch_normalization_233 False\n",
            "138 activation_233 False\n",
            "139 conv2d_229 False\n",
            "140 conv2d_234 False\n",
            "141 batch_normalization_229 False\n",
            "142 batch_normalization_234 False\n",
            "143 activation_229 False\n",
            "144 activation_234 False\n",
            "145 conv2d_230 False\n",
            "146 conv2d_235 False\n",
            "147 batch_normalization_230 False\n",
            "148 batch_normalization_235 False\n",
            "149 activation_230 False\n",
            "150 activation_235 False\n",
            "151 average_pooling2d_22 False\n",
            "152 conv2d_228 False\n",
            "153 conv2d_231 False\n",
            "154 conv2d_236 False\n",
            "155 conv2d_237 False\n",
            "156 batch_normalization_228 False\n",
            "157 batch_normalization_231 False\n",
            "158 batch_normalization_236 False\n",
            "159 batch_normalization_237 False\n",
            "160 activation_228 False\n",
            "161 activation_231 False\n",
            "162 activation_236 False\n",
            "163 activation_237 False\n",
            "164 mixed5 False\n",
            "165 conv2d_242 False\n",
            "166 batch_normalization_242 False\n",
            "167 activation_242 False\n",
            "168 conv2d_243 False\n",
            "169 batch_normalization_243 False\n",
            "170 activation_243 False\n",
            "171 conv2d_239 False\n",
            "172 conv2d_244 False\n",
            "173 batch_normalization_239 False\n",
            "174 batch_normalization_244 False\n",
            "175 activation_239 False\n",
            "176 activation_244 False\n",
            "177 conv2d_240 False\n",
            "178 conv2d_245 False\n",
            "179 batch_normalization_240 False\n",
            "180 batch_normalization_245 False\n",
            "181 activation_240 False\n",
            "182 activation_245 False\n",
            "183 average_pooling2d_23 False\n",
            "184 conv2d_238 False\n",
            "185 conv2d_241 False\n",
            "186 conv2d_246 False\n",
            "187 conv2d_247 False\n",
            "188 batch_normalization_238 False\n",
            "189 batch_normalization_241 False\n",
            "190 batch_normalization_246 False\n",
            "191 batch_normalization_247 False\n",
            "192 activation_238 False\n",
            "193 activation_241 False\n",
            "194 activation_246 False\n",
            "195 activation_247 False\n",
            "196 mixed6 False\n",
            "197 conv2d_252 False\n",
            "198 batch_normalization_252 False\n",
            "199 activation_252 False\n",
            "200 conv2d_253 False\n",
            "201 batch_normalization_253 False\n",
            "202 activation_253 False\n",
            "203 conv2d_249 False\n",
            "204 conv2d_254 False\n",
            "205 batch_normalization_249 False\n",
            "206 batch_normalization_254 False\n",
            "207 activation_249 False\n",
            "208 activation_254 False\n",
            "209 conv2d_250 False\n",
            "210 conv2d_255 False\n",
            "211 batch_normalization_250 False\n",
            "212 batch_normalization_255 False\n",
            "213 activation_250 False\n",
            "214 activation_255 False\n",
            "215 average_pooling2d_24 False\n",
            "216 conv2d_248 False\n",
            "217 conv2d_251 False\n",
            "218 conv2d_256 False\n",
            "219 conv2d_257 False\n",
            "220 batch_normalization_248 False\n",
            "221 batch_normalization_251 False\n",
            "222 batch_normalization_256 False\n",
            "223 batch_normalization_257 False\n",
            "224 activation_248 False\n",
            "225 activation_251 False\n",
            "226 activation_256 False\n",
            "227 activation_257 False\n",
            "228 mixed7 False\n",
            "229 conv2d_260 False\n",
            "230 batch_normalization_260 False\n",
            "231 activation_260 False\n",
            "232 conv2d_261 False\n",
            "233 batch_normalization_261 False\n",
            "234 activation_261 False\n",
            "235 conv2d_258 False\n",
            "236 conv2d_262 False\n",
            "237 batch_normalization_258 False\n",
            "238 batch_normalization_262 False\n",
            "239 activation_258 False\n",
            "240 activation_262 False\n",
            "241 conv2d_259 False\n",
            "242 conv2d_263 False\n",
            "243 batch_normalization_259 False\n",
            "244 batch_normalization_263 False\n",
            "245 activation_259 False\n",
            "246 activation_263 False\n",
            "247 max_pooling2d_11 False\n",
            "248 mixed8 False\n",
            "249 conv2d_268 False\n",
            "250 batch_normalization_268 False\n",
            "251 activation_268 False\n",
            "252 conv2d_265 False\n",
            "253 conv2d_269 False\n",
            "254 batch_normalization_265 False\n",
            "255 batch_normalization_269 False\n",
            "256 activation_265 False\n",
            "257 activation_269 False\n",
            "258 conv2d_266 False\n",
            "259 conv2d_267 False\n",
            "260 conv2d_270 False\n",
            "261 conv2d_271 False\n",
            "262 average_pooling2d_25 False\n",
            "263 conv2d_264 False\n",
            "264 batch_normalization_266 False\n",
            "265 batch_normalization_267 False\n",
            "266 batch_normalization_270 False\n",
            "267 batch_normalization_271 False\n",
            "268 conv2d_272 False\n",
            "269 batch_normalization_264 False\n",
            "270 activation_266 False\n",
            "271 activation_267 False\n",
            "272 activation_270 False\n",
            "273 activation_271 False\n",
            "274 batch_normalization_272 False\n",
            "275 activation_264 False\n",
            "276 mixed9_0 False\n",
            "277 concatenate_4 False\n",
            "278 activation_272 False\n",
            "279 mixed9 False\n",
            "280 conv2d_277 False\n",
            "281 batch_normalization_277 False\n",
            "282 activation_277 False\n",
            "283 conv2d_274 False\n",
            "284 conv2d_278 False\n",
            "285 batch_normalization_274 False\n",
            "286 batch_normalization_278 False\n",
            "287 activation_274 False\n",
            "288 activation_278 False\n",
            "289 conv2d_275 False\n",
            "290 conv2d_276 False\n",
            "291 conv2d_279 False\n",
            "292 conv2d_280 False\n",
            "293 average_pooling2d_26 False\n",
            "294 conv2d_273 False\n",
            "295 batch_normalization_275 False\n",
            "296 batch_normalization_276 False\n",
            "297 batch_normalization_279 False\n",
            "298 batch_normalization_280 False\n",
            "299 conv2d_281 False\n",
            "300 batch_normalization_273 False\n",
            "301 activation_275 False\n",
            "302 activation_276 False\n",
            "303 activation_279 False\n",
            "304 activation_280 False\n",
            "305 batch_normalization_281 False\n",
            "306 activation_273 False\n",
            "307 mixed9_1 False\n",
            "308 concatenate_5 False\n",
            "309 activation_281 False\n",
            "310 mixed10 False\n"
          ]
        }
      ]
    },
    {
      "cell_type": "code",
      "metadata": {
        "id": "s9WHCNjnJ2cU"
      },
      "source": [
        "from tensorflow.keras import layers \n",
        "x = layers.Flatten()(base_model.output)\n",
        "x = layers.Dense(1024, activation='relu')(x)\n",
        "x = layers.Dropout(0.5)(x)\n",
        "x = layers.Dense(3, activation='softmax')(x)\n",
        "model = tf.keras.models.Model(base_model.input, x)\n",
        "model.compile(optimizer='adam', loss=tf.keras.losses.categorical_crossentropy, metrics=['acc'])\n"
      ],
      "execution_count": 21,
      "outputs": []
    },
    {
      "cell_type": "code",
      "metadata": {
        "colab": {
          "base_uri": "https://localhost:8080/",
          "height": 1000
        },
        "id": "6VjnI2YUJ2cf",
        "outputId": "5548fb91-9952-48d2-e4b7-f30537fae622"
      },
      "source": [
        "from matplotlib import pyplot as plt\n",
        "\n",
        "history = model.fit(train_gen,epochs = 30,validation_data = valid_gen)\n",
        "plt.plot(history.history['acc'])\n",
        "plt.plot(history.history['val_acc'])\n",
        "plt.title('model accuracy')\n",
        "plt.ylabel('accuracy')\n",
        "plt.xlabel('epoch')\n",
        "plt.legend(['train', 'val'], loc='upper left')\n",
        "plt.show()"
      ],
      "execution_count": 23,
      "outputs": [
        {
          "output_type": "stream",
          "name": "stdout",
          "text": [
            "Epoch 1/30\n",
            "38/38 [==============================] - 10s 272ms/step - loss: 0.2526 - acc: 0.8943 - val_loss: 1.3420 - val_acc: 0.5531\n",
            "Epoch 2/30\n",
            "38/38 [==============================] - 10s 275ms/step - loss: 0.2220 - acc: 0.9163 - val_loss: 1.6097 - val_acc: 0.5487\n",
            "Epoch 3/30\n",
            "38/38 [==============================] - 10s 277ms/step - loss: 0.2326 - acc: 0.9119 - val_loss: 1.7357 - val_acc: 0.5575\n",
            "Epoch 4/30\n",
            "38/38 [==============================] - 10s 275ms/step - loss: 0.2757 - acc: 0.8965 - val_loss: 1.6059 - val_acc: 0.5265\n",
            "Epoch 5/30\n",
            "38/38 [==============================] - 10s 274ms/step - loss: 0.2073 - acc: 0.9163 - val_loss: 1.7244 - val_acc: 0.5531\n",
            "Epoch 6/30\n",
            "38/38 [==============================] - 10s 271ms/step - loss: 0.2395 - acc: 0.9141 - val_loss: 1.4958 - val_acc: 0.5487\n",
            "Epoch 7/30\n",
            "38/38 [==============================] - 10s 273ms/step - loss: 0.1894 - acc: 0.9251 - val_loss: 1.4120 - val_acc: 0.5531\n",
            "Epoch 8/30\n",
            "38/38 [==============================] - 10s 274ms/step - loss: 0.1983 - acc: 0.9229 - val_loss: 1.6625 - val_acc: 0.4690\n",
            "Epoch 9/30\n",
            "38/38 [==============================] - 10s 272ms/step - loss: 0.2119 - acc: 0.9229 - val_loss: 1.5370 - val_acc: 0.5221\n",
            "Epoch 10/30\n",
            "38/38 [==============================] - 10s 275ms/step - loss: 0.1975 - acc: 0.9185 - val_loss: 1.8869 - val_acc: 0.5487\n",
            "Epoch 11/30\n",
            "38/38 [==============================] - 10s 274ms/step - loss: 0.1684 - acc: 0.9317 - val_loss: 1.4500 - val_acc: 0.6062\n",
            "Epoch 12/30\n",
            "38/38 [==============================] - 10s 271ms/step - loss: 0.1951 - acc: 0.9207 - val_loss: 1.6984 - val_acc: 0.4867\n",
            "Epoch 13/30\n",
            "38/38 [==============================] - 10s 270ms/step - loss: 0.1748 - acc: 0.9339 - val_loss: 1.6785 - val_acc: 0.4912\n",
            "Epoch 14/30\n",
            "38/38 [==============================] - 10s 271ms/step - loss: 0.1819 - acc: 0.9317 - val_loss: 1.7268 - val_acc: 0.5354\n",
            "Epoch 15/30\n",
            "38/38 [==============================] - 10s 274ms/step - loss: 0.1405 - acc: 0.9405 - val_loss: 1.8059 - val_acc: 0.4867\n",
            "Epoch 16/30\n",
            "38/38 [==============================] - 10s 270ms/step - loss: 0.1361 - acc: 0.9559 - val_loss: 2.0916 - val_acc: 0.4425\n",
            "Epoch 17/30\n",
            "38/38 [==============================] - 10s 271ms/step - loss: 0.2565 - acc: 0.9097 - val_loss: 2.1292 - val_acc: 0.5398\n",
            "Epoch 18/30\n",
            "38/38 [==============================] - 10s 273ms/step - loss: 0.1832 - acc: 0.9229 - val_loss: 2.0247 - val_acc: 0.5442\n",
            "Epoch 19/30\n",
            "38/38 [==============================] - 10s 271ms/step - loss: 0.2026 - acc: 0.9273 - val_loss: 2.1416 - val_acc: 0.5531\n",
            "Epoch 20/30\n",
            "38/38 [==============================] - 10s 275ms/step - loss: 0.2480 - acc: 0.8987 - val_loss: 1.8355 - val_acc: 0.5310\n",
            "Epoch 21/30\n",
            "38/38 [==============================] - 10s 273ms/step - loss: 0.2644 - acc: 0.9053 - val_loss: 1.6426 - val_acc: 0.4912\n",
            "Epoch 22/30\n",
            "38/38 [==============================] - 10s 271ms/step - loss: 0.3243 - acc: 0.8722 - val_loss: 1.3632 - val_acc: 0.5708\n",
            "Epoch 23/30\n",
            "38/38 [==============================] - 10s 270ms/step - loss: 0.3309 - acc: 0.8811 - val_loss: 1.7207 - val_acc: 0.5088\n",
            "Epoch 24/30\n",
            "38/38 [==============================] - 10s 273ms/step - loss: 0.3041 - acc: 0.8700 - val_loss: 1.3925 - val_acc: 0.5708\n",
            "Epoch 25/30\n",
            "38/38 [==============================] - 10s 276ms/step - loss: 0.3271 - acc: 0.8634 - val_loss: 1.6755 - val_acc: 0.5310\n",
            "Epoch 26/30\n",
            "38/38 [==============================] - 10s 276ms/step - loss: 0.3788 - acc: 0.8502 - val_loss: 1.4783 - val_acc: 0.5133\n",
            "Epoch 27/30\n",
            "38/38 [==============================] - 10s 272ms/step - loss: 0.2739 - acc: 0.8877 - val_loss: 1.7795 - val_acc: 0.4956\n",
            "Epoch 28/30\n",
            "38/38 [==============================] - 10s 270ms/step - loss: 0.2497 - acc: 0.9075 - val_loss: 2.0150 - val_acc: 0.5088\n",
            "Epoch 29/30\n",
            "38/38 [==============================] - 10s 272ms/step - loss: 0.2254 - acc: 0.9053 - val_loss: 2.5729 - val_acc: 0.5133\n",
            "Epoch 30/30\n",
            "38/38 [==============================] - 10s 269ms/step - loss: 0.2349 - acc: 0.9031 - val_loss: 1.7351 - val_acc: 0.5221\n"
          ]
        },
        {
          "output_type": "display_data",
          "data": {
            "image/png": "[encoded data removed]",
            "text/plain": [
              "<Figure size 432x288 with 1 Axes>"
            ]
          },
          "metadata": {
            "needs_background": "light"
          }
        }
      ]
    },
    {
      "cell_type": "code",
      "metadata": {
        "colab": {
          "base_uri": "https://localhost:8080/"
        },
        "id": "jHtIRRdCCAsg",
        "outputId": "38496977-0603-4729-af08-23a1e71b4fa2"
      },
      "source": [
        "test_datagen = ImageDataGenerator(\n",
        "        rescale=1./255)\n",
        "\n",
        "\n",
        "test_gen = test_datagen.flow_from_directory(\n",
        "    test_dir,\n",
        "    target_size = (IMAGE_SIZE,IMAGE_SIZE),\n",
        "    batch_size= BATCH_SIZE,\n",
        "    class_mode='categorical'\n",
        ")\n",
        "\n",
        "\n",
        "pred = model.predict_generator(test_gen, steps=10, verbose=1)"
      ],
      "execution_count": null,
      "outputs": [
        {
          "output_type": "stream",
          "name": "stdout",
          "text": [
            "Found 115 images belonging to 3 classes.\n"
          ]
        },
        {
          "output_type": "stream",
          "name": "stderr",
          "text": [
            "/usr/local/lib/python3.7/dist-packages/keras/engine/training.py:2035: UserWarning: `Model.predict_generator` is deprecated and will be removed in a future version. Please use `Model.predict`, which supports generators.\n",
            "  warnings.warn('`Model.predict_generator` is deprecated and '\n"
          ]
        },
        {
          "output_type": "stream",
          "name": "stdout",
          "text": [
            " 8/10 [=======================>......] - ETA: 8s WARNING:tensorflow:Your input ran out of data; interrupting training. Make sure that your dataset or generator can generate at least `steps_per_epoch * epochs` batches (in this case, 10 batches). You may need to use the repeat() function when building your dataset.\n",
            "10/10 [==============================] - 31s 3s/step\n"
          ]
        }
      ]
    },
    {
      "cell_type": "code",
      "metadata": {
        "colab": {
          "base_uri": "https://localhost:8080/"
        },
        "id": "_nyDHxxMrtor",
        "outputId": "1b42c3c8-a7b0-4741-a625-8f3422f76043"
      },
      "source": [
        "final_loss, final_acc = model.evaluate(valid_gen, verbose=0)\n",
        "print(\"Final loss: {0:.6f}, final accuracy: {1:.6f}\".format(final_loss, final_acc))"
      ],
      "execution_count": null,
      "outputs": [
        {
          "output_type": "stream",
          "name": "stdout",
          "text": [
            "Final loss: 1.109834, final accuracy: 0.642202\n"
          ]
        }
      ]
    },
    {
      "cell_type": "code",
      "metadata": {
        "id": "IgsWHOk8C9wC"
      },
      "source": [
        "predicted_class = np.argmax(pred,axis=1)\n"
      ],
      "execution_count": null,
      "outputs": []
    },
    {
      "cell_type": "code",
      "metadata": {
        "id": "IQVsmre1FdE6"
      },
      "source": [
        "l = dict((v,k) for k,v in train_gen.class_indices.items())\n",
        "prednames = [l[k] for k in predicted_class]\n"
      ],
      "execution_count": null,
      "outputs": []
    },
    {
      "cell_type": "code",
      "metadata": {
        "id": "VVknm8gfG73v"
      },
      "source": [
        "filenames = test_gen.filenames\n"
      ],
      "execution_count": null,
      "outputs": []
    },
    {
      "cell_type": "code",
      "metadata": {
        "id": "rVV6q8VJHHIu"
      },
      "source": [
        "import pandas as pd\n",
        "finaldf = pd.DataFrame({'Filename': filenames,'Prediction': prednames})\n"
      ],
      "execution_count": null,
      "outputs": []
    },
    {
      "cell_type": "code",
      "metadata": {
        "id": "AUQujGRRHKp8"
      },
      "source": [
        "finaldf.to_csv(\"pred25s.csv\")"
      ],
      "execution_count": null,
      "outputs": []
    },
    {
      "cell_type": "code",
      "metadata": {
        "id": "jSVpaY5rH2vi"
      },
      "source": [
        ""
      ],
      "execution_count": null,
      "outputs": []
    }
  ]
}